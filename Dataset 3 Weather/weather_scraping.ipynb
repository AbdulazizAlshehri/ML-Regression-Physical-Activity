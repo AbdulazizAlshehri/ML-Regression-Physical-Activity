{
 "cells": [
  {
   "cell_type": "code",
   "execution_count": 1,
   "id": "11154f3b",
   "metadata": {},
   "outputs": [],
   "source": [
    "# basics\n",
    "import numpy as np\n",
    "import pandas as pd\n",
    "import matplotlib.pyplot as plt\n",
    "import time\n",
    "from datetime import timedelta, date, datetime\n",
    "\n",
    "# scraping\n",
    "from bs4 import BeautifulSoup\n",
    "import requests\n",
    "from selenium import webdriver\n",
    "from selenium.webdriver.common.keys import Keys\n",
    "\n",
    "from tqdm import tqdm"
   ]
  },
  {
   "cell_type": "markdown",
   "id": "7bdd36c5",
   "metadata": {},
   "source": [
    "# Scraping Weather Data"
   ]
  },
  {
   "cell_type": "code",
   "execution_count": 2,
   "id": "bee1dc29",
   "metadata": {},
   "outputs": [
    {
     "name": "stderr",
     "output_type": "stream",
     "text": [
      "C:\\Users\\alsah\\anaconda3\\lib\\site-packages\\selenium\\webdriver\\phantomjs\\webdriver.py:49: UserWarning: Selenium support for PhantomJS has been deprecated, please use headless versions of Chrome or Firefox instead\n",
      "  warnings.warn('Selenium support for PhantomJS has been deprecated, please use headless '\n"
     ]
    }
   ],
   "source": [
    "# driver = webdriver.Chrome('C:\\Program Files\\Google\\Chrome\\Application\\chromedriver.exe')\n",
    "browser = webdriver.PhantomJS('C:/Users/alsah/Downloads/phantomjs-2.1.1-windows/phantomjs-2.1.1-windows/bin/phantomjs.exe')"
   ]
  },
  {
   "cell_type": "code",
   "execution_count": 3,
   "id": "eee5724f",
   "metadata": {},
   "outputs": [],
   "source": [
    "def scraping_weather(date_range):\n",
    "    \n",
    "    errors_num = 0\n",
    "    one_month_data = []\n",
    "    indices = [0, 2, 4, 6, 8, 9, 11, 13, 15, 17]\n",
    "    xpath = '//*[@id=\"inner-content\"]/div[2]/div[1]/div[5]/div[1]/div/lib-city-history-observation/div/div[2]/\\\n",
    "    table/tbody'\n",
    "        \n",
    "    for i in tqdm(range(len(date_range))):\n",
    "        d = str(date_range[i].date())\n",
    "        url = 'https://www.wunderground.com/history/daily/OERK/date/' + d\n",
    "        \n",
    "        \n",
    "        keep_trying = True\n",
    "        while keep_trying == True:\n",
    "            try:\n",
    "                browser.get(url)\n",
    "                time.sleep(4)\n",
    "                table_text = browser.find_element_by_xpath(xpath).text\n",
    "\n",
    "                for row in table_text.split('\\n'):\n",
    "                    values = row.split()\n",
    "                    values = [values[i] for i in indices]\n",
    "                    values.append(d)\n",
    "                    one_month_data.append(values)\n",
    "        #             print([values[i] for i in indices])\n",
    "                keep_trying = False\n",
    "        \n",
    "            except Exception as e:\n",
    "                keep_trying = True\n",
    "#                 print(e)\n",
    "                errors_num +=1\n",
    "    \n",
    "    print(f'number of errors : {errors_num}')\n",
    "    return one_month_data"
   ]
  },
  {
   "cell_type": "code",
   "execution_count": 11,
   "id": "2bb2fa22",
   "metadata": {
    "scrolled": false
   },
   "outputs": [
    {
     "name": "stderr",
     "output_type": "stream",
     "text": [
      "\r",
      "  0%|                                                                                           | 0/31 [00:00<?, ?it/s]"
     ]
    },
    {
     "name": "stdout",
     "output_type": "stream",
     "text": [
      "0\n"
     ]
    },
    {
     "name": "stderr",
     "output_type": "stream",
     "text": [
      "100%|██████████████████████████████████████████████████████████████████████████████████| 31/31 [12:09<00:00, 23.52s/it]\n",
      "  0%|                                                                                           | 0/29 [00:00<?, ?it/s]"
     ]
    },
    {
     "name": "stdout",
     "output_type": "stream",
     "text": [
      "number of errors : 3\n",
      "1\n"
     ]
    },
    {
     "name": "stderr",
     "output_type": "stream",
     "text": [
      "100%|██████████████████████████████████████████████████████████████████████████████████| 29/29 [11:45<00:00, 24.31s/it]"
     ]
    },
    {
     "name": "stdout",
     "output_type": "stream",
     "text": [
      "number of errors : 3\n"
     ]
    },
    {
     "name": "stderr",
     "output_type": "stream",
     "text": [
      "\n"
     ]
    }
   ],
   "source": [
    "# months/days that we need \n",
    "year = 2020\n",
    "months = pd.date_range(date(year-1,12,31), date(year+0,3,1), freq='m')+timedelta(days=1)\n",
    "months = list([pd.date_range(months[i], months[i+1]-timedelta(days=1), freq='d') for i in range(len(months)-1)])\n",
    "months\n",
    "# scrap data for each month & store it in local dataframe\n",
    "for i in range(len(months)):\n",
    "    print(i)\n",
    "#     print(months[i])\n",
    "    one_month_data = scraping_weather(months[i])\n",
    "    df = pd.DataFrame(one_month_data, columns=['Time', 'Temp', 'Dew Point', 'Humidity', 'Wind', 'Wind Speed',\n",
    "                                         'Wind Gust', 'Pressure', 'Precip.', 'Condition', 'date'])\n",
    "    df.to_csv(f'weather_{year}-{i+1}.csv', index=False)"
   ]
  },
  {
   "cell_type": "code",
   "execution_count": null,
   "id": "3e2dbc7e",
   "metadata": {},
   "outputs": [],
   "source": []
  },
  {
   "cell_type": "code",
   "execution_count": null,
   "id": "4c009bf0",
   "metadata": {},
   "outputs": [],
   "source": []
  }
 ],
 "metadata": {
  "kernelspec": {
   "display_name": "Python 3",
   "language": "python",
   "name": "python3"
  },
  "language_info": {
   "codemirror_mode": {
    "name": "ipython",
    "version": 3
   },
   "file_extension": ".py",
   "mimetype": "text/x-python",
   "name": "python",
   "nbconvert_exporter": "python",
   "pygments_lexer": "ipython3",
   "version": "3.8.8"
  }
 },
 "nbformat": 4,
 "nbformat_minor": 5
}
