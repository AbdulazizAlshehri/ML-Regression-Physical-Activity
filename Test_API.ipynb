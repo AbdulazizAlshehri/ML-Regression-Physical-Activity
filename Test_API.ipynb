{
 "cells": [
  {
   "cell_type": "code",
   "execution_count": 7,
   "metadata": {},
   "outputs": [
    {
     "name": "stdout",
     "output_type": "stream",
     "text": [
      "<Response [200]>\n",
      "If i was in those conditions, i would walk  3967.052381706492  Steps\n"
     ]
    }
   ],
   "source": [
    "import requests\n",
    " \n",
    "# Making a POST request\n",
    "#All fields must be numeric, there are no error validation yet\n",
    "\n",
    "r = requests.post('https://awlaa.app/health/Predict.php', data ={'AD_Month':'9','AH_Month':'6','Long_Vacation':'1','AD_WeekdayNum':'5'\\\n",
    "                                                      ,\"Woke_Hour\":'13',\"temp_min\":'63',\"temp_max\":'98',\\\n",
    "                                                      \"Lag1\":\"2847\",\"Lag2\":\"3939\",\"Lag3\":\"3702\",\"Lag4\":\"4454\"\\\n",
    "                                                      ,\"Lag5\":\"5448\",\"Lag6\":\"2739\",\"Lag7\":\"2668\",\"Lag8\":\"4774\"})\n",
    " \n",
    "# check status code for response received\n",
    "# success code - 200\n",
    "print(r)\n",
    " \n",
    "# print content of request\n",
    "print(\"If i was in those conditions, i would walk \",r.json(),\" Steps\")"
   ]
  },
  {
   "cell_type": "code",
   "execution_count": null,
   "metadata": {},
   "outputs": [],
   "source": []
  }
 ],
 "metadata": {
  "kernelspec": {
   "display_name": "Python 3",
   "language": "python",
   "name": "python3"
  },
  "language_info": {
   "codemirror_mode": {
    "name": "ipython",
    "version": 3
   },
   "file_extension": ".py",
   "mimetype": "text/x-python",
   "name": "python",
   "nbconvert_exporter": "python",
   "pygments_lexer": "ipython3",
   "version": "3.8.3"
  }
 },
 "nbformat": 4,
 "nbformat_minor": 4
}
